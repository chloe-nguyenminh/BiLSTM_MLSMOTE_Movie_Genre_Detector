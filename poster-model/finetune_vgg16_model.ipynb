{
  "nbformat": 4,
  "nbformat_minor": 0,
  "metadata": {
    "colab": {
      "provenance": [],
      "gpuType": "V100"
    },
    "kernelspec": {
      "name": "python3",
      "display_name": "Python 3"
    },
    "language_info": {
      "name": "python"
    },
    "accelerator": "GPU"
  },
  "cells": [
    {
      "cell_type": "code",
      "execution_count": null,
      "metadata": {
        "id": "lkxfzl_ZR1o7"
      },
      "outputs": [],
      "source": [
        "import keras\n",
        "from keras.models import Sequential\n",
        "from keras.layers import Dense, Dropout, Flatten\n",
        "from keras.layers import Conv2D, MaxPooling2D\n",
        "import keras.utils as image\n",
        "from keras.callbacks import EarlyStopping\n",
        "from keras.callbacks import ModelCheckpoint\n",
        "from keras.preprocessing.image import ImageDataGenerator\n",
        "import pandas as pd\n",
        "import numpy as np\n",
        "from tqdm import tqdm\n",
        "import matplotlib.pyplot as plt\n",
        "import cv2\n",
        "from keras import models\n",
        "from keras import layers\n",
        "from keras import optimizers\n",
        "from PIL import Image\n",
        "import sklearn\n",
        "from sklearn.model_selection import train_test_split\n",
        "from statistics import mean"
      ]
    },
    {
      "cell_type": "code",
      "source": [
        "from google.colab import drive\n",
        "drive.mount('/content/drive')"
      ],
      "metadata": {
        "colab": {
          "base_uri": "https://localhost:8080/"
        },
        "id": "J762pGS3zqHS",
        "outputId": "ddbdd6a1-76cc-40a7-d4fb-f376d537c4b3"
      },
      "execution_count": null,
      "outputs": [
        {
          "output_type": "stream",
          "name": "stdout",
          "text": [
            "Drive already mounted at /content/drive; to attempt to forcibly remount, call drive.mount(\"/content/drive\", force_remount=True).\n"
          ]
        }
      ]
    },
    {
      "cell_type": "code",
      "source": [
        "X_Train = np.load('/content/drive/MyDrive/Summer_2023/Models/Poster_Models/X_Train.npy', mmap_mode = 'r')\n",
        "Y_Train = np.load('/content/drive/MyDrive/Summer_2023/Models/Poster_Models/Y_Train.npy', mmap_mode = 'r')"
      ],
      "metadata": {
        "id": "_nQ_Om3AgQvc"
      },
      "execution_count": null,
      "outputs": []
    },
    {
      "cell_type": "code",
      "source": [
        "X_Val = np.load('/content/drive/MyDrive/Summer_2023/Models/Poster_Models/X_Val.npy', mmap_mode = 'r')\n",
        "Y_Val = np.load('/content/drive/MyDrive/Summer_2023/Models/Poster_Models/Y_Val.npy', mmap_mode = 'r')\n"
      ],
      "metadata": {
        "id": "QVrvoGe2gTX9"
      },
      "execution_count": null,
      "outputs": []
    },
    {
      "cell_type": "code",
      "source": [
        "batch_size = 64\n",
        "nb_epoch = 50\n",
        "steps_per_epoch = np.ceil(X_Train.shape[0]/batch_size)\n",
        "validation_steps = np.ceil(X_Val.shape[0]/batch_size)\n",
        "print(steps_per_epoch)\n",
        "print(validation_steps)"
      ],
      "metadata": {
        "id": "D6YR2pWZq1Xx",
        "colab": {
          "base_uri": "https://localhost:8080/"
        },
        "outputId": "0e51de7d-1951-45d4-8fe9-9eef0ac17a42"
      },
      "execution_count": null,
      "outputs": [
        {
          "output_type": "stream",
          "name": "stdout",
          "text": [
            "381.0\n",
            "147.0\n"
          ]
        }
      ]
    },
    {
      "cell_type": "code",
      "source": [
        "from keras.applications import VGG16"
      ],
      "metadata": {
        "id": "d8tNYzDrKVpm"
      },
      "execution_count": null,
      "outputs": []
    },
    {
      "cell_type": "code",
      "source": [
        "#Load the VGG model\n",
        "vgg_conv = VGG16(weights='imagenet', include_top=False, input_shape=(200,150, 3))\n"
      ],
      "metadata": {
        "id": "u0HsG3T1KVsR"
      },
      "execution_count": null,
      "outputs": []
    },
    {
      "cell_type": "code",
      "source": [
        "# Freeze the layers except the last 4 layers\n",
        "for layer in vgg_conv.layers[:-4]:\n",
        "    layer.trainable = False"
      ],
      "metadata": {
        "id": "kVgW3QZcKVuo"
      },
      "execution_count": null,
      "outputs": []
    },
    {
      "cell_type": "code",
      "source": [
        "num_classes = 28  # Types of Genres\n"
      ],
      "metadata": {
        "id": "jnciDEG9SIGa"
      },
      "execution_count": null,
      "outputs": []
    },
    {
      "cell_type": "code",
      "source": [
        "# Create the model\n",
        "model = models.Sequential()\n",
        "\n",
        "# Add the vgg convolutional base model\n",
        "model.add(vgg_conv)"
      ],
      "metadata": {
        "id": "W7Y9f1xtKVxV"
      },
      "execution_count": null,
      "outputs": []
    },
    {
      "cell_type": "code",
      "source": [
        "# Add new layers\n",
        "model.add(layers.Flatten())\n",
        "model.add(layers.Dense(1024, activation='relu'))\n",
        "model.add(layers.Dropout(0.5))\n",
        "model.add(layers.Dense(num_classes, activation='sigmoid'))\n",
        "\n",
        "# Show a summary of the model. Check the number of trainable parameters\n",
        "model.summary()"
      ],
      "metadata": {
        "id": "K3z1H-IKKV00",
        "colab": {
          "base_uri": "https://localhost:8080/"
        },
        "outputId": "41e44158-7caa-49ea-903e-5e95a5cf8450"
      },
      "execution_count": null,
      "outputs": [
        {
          "output_type": "stream",
          "name": "stdout",
          "text": [
            "Model: \"sequential\"\n",
            "_________________________________________________________________\n",
            " Layer (type)                Output Shape              Param #   \n",
            "=================================================================\n",
            " vgg16 (Functional)          (None, 6, 4, 512)         14714688  \n",
            "                                                                 \n",
            " flatten (Flatten)           (None, 12288)             0         \n",
            "                                                                 \n",
            " dense (Dense)               (None, 1024)              12583936  \n",
            "                                                                 \n",
            " dropout (Dropout)           (None, 1024)              0         \n",
            "                                                                 \n",
            " dense_1 (Dense)             (None, 28)                28700     \n",
            "                                                                 \n",
            "=================================================================\n",
            "Total params: 27,327,324\n",
            "Trainable params: 19,692,060\n",
            "Non-trainable params: 7,635,264\n",
            "_________________________________________________________________\n"
          ]
        }
      ]
    },
    {
      "cell_type": "code",
      "source": [
        "model.compile(optimizer=optimizers.RMSprop(learning_rate=1e-4), loss='binary_crossentropy', metrics=['accuracy'])\n"
      ],
      "metadata": {
        "id": "iWcjYjLBR6jc"
      },
      "execution_count": null,
      "outputs": []
    },
    {
      "cell_type": "code",
      "source": [
        "# construct the training image generator for data augmentation\n",
        "datagen = ImageDataGenerator(rotation_range=20,\n",
        "                             zoom_range=0.15,\n",
        "                             width_shift_range=0.2,\n",
        "                             height_shift_range=0.2,\n",
        "                             shear_range=0.15,\n",
        "                             horizontal_flip=True, fill_mode=\"nearest\",\n",
        "                             validation_split=0.2)"
      ],
      "metadata": {
        "id": "MY3L7KmdR6mF"
      },
      "execution_count": null,
      "outputs": []
    },
    {
      "cell_type": "code",
      "source": [],
      "metadata": {
        "id": "aauQ7Vqdes7N"
      },
      "execution_count": null,
      "outputs": []
    },
    {
      "cell_type": "code",
      "source": [
        "history = model.fit(datagen.flow_from_dataframe(X_Train, Y_Train, batch_size=batch_size),\n",
        "                    validation_data=(X_Val, Y_Val),\n",
        "                    steps_per_epoch=steps_per_epoch,\n",
        "                    epochs=nb_epoch,\n",
        "                    verbose=1)\n",
        "\n",
        "model.save('/content/drive/MyDrive/Summer_2023/Models/Poster_Models/finetuned-vgg16-model.h5')"
      ],
      "metadata": {
        "id": "BlDFhDmMK3Oq"
      },
      "execution_count": null,
      "outputs": []
    }
  ]
}